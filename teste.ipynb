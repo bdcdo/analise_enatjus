{
 "cells": [
  {
   "cell_type": "code",
   "execution_count": 1,
   "id": "3c394762",
   "metadata": {},
   "outputs": [],
   "source": [
    "import polars as pl"
   ]
  },
  {
   "cell_type": "code",
   "execution_count": 2,
   "id": "32776ec5",
   "metadata": {},
   "outputs": [],
   "source": [
    "df2 = pl.read_parquet('base_enatjus_2025-1.parquet')"
   ]
  },
  {
   "cell_type": "code",
   "execution_count": 3,
   "id": "495b1fbd",
   "metadata": {},
   "outputs": [
    {
     "data": {
      "text/plain": [
       "<xlsxwriter.workbook.Workbook at 0x74e7341d5510>"
      ]
     },
     "execution_count": 3,
     "metadata": {},
     "output_type": "execute_result"
    }
   ],
   "source": [
    "df2['origem_tratada'].value_counts(sort=True).write_excel('debug.xlsx')"
   ]
  },
  {
   "cell_type": "code",
   "execution_count": 5,
   "id": "f3cc53c9",
   "metadata": {},
   "outputs": [],
   "source": [
    "df = pl.read_parquet('base_enatjus.parquet')"
   ]
  },
  {
   "cell_type": "code",
   "execution_count": null,
   "id": "b4d5e117",
   "metadata": {},
   "outputs": [
    {
     "data": {
      "text/plain": [
       "311230"
      ]
     },
     "execution_count": 3,
     "metadata": {},
     "output_type": "execute_result"
    }
   ],
   "source": [
    "len(df)"
   ]
  },
  {
   "cell_type": "code",
   "execution_count": null,
   "id": "9096d430",
   "metadata": {},
   "outputs": [],
   "source": [
    "df = df.with_columns(\n",
    "    pl.col(\"data_emissao\")\n",
    "      .str.strptime(pl.Datetime, format=\"%d/%m/%Y %H:%M:%S\", strict=False)\n",
    ")\n",
    "\n",
    "mais_recente = df.select(pl.col(\"data_emissao\").max()).item()\n",
    "df_filtrado = df.filter(\n",
    "    pl.col(\"data_emissao\") <= pl.datetime(2025, 6, 30, 23, 59, 59)\n",
    ")"
   ]
  },
  {
   "cell_type": "code",
   "execution_count": null,
   "id": "10d77a3b",
   "metadata": {},
   "outputs": [
    {
     "data": {
      "text/plain": [
       "2915"
      ]
     },
     "execution_count": 5,
     "metadata": {},
     "output_type": "execute_result"
    }
   ],
   "source": [
    "311230 - 308315"
   ]
  },
  {
   "cell_type": "code",
   "execution_count": null,
   "id": "a2f0feef",
   "metadata": {},
   "outputs": [
    {
     "data": {
      "text/plain": [
       "308315"
      ]
     },
     "execution_count": 6,
     "metadata": {},
     "output_type": "execute_result"
    }
   ],
   "source": [
    "len(df_filtrado)"
   ]
  },
  {
   "cell_type": "code",
   "execution_count": null,
   "id": "04879ee3",
   "metadata": {},
   "outputs": [],
   "source": [
    "df_filtrado = df_filtrado.filter(\n",
    "    pl.col('selTipoTecnologia') == '1'\n",
    ")"
   ]
  },
  {
   "cell_type": "code",
   "execution_count": null,
   "id": "0385324e",
   "metadata": {},
   "outputs": [
    {
     "data": {
      "text/plain": [
       "174947"
      ]
     },
     "execution_count": 8,
     "metadata": {},
     "output_type": "execute_result"
    }
   ],
   "source": [
    "len(df_filtrado)"
   ]
  },
  {
   "cell_type": "code",
   "execution_count": null,
   "id": "164cab64",
   "metadata": {},
   "outputs": [
    {
     "data": {
      "text/plain": [
       "<xlsxwriter.workbook.Workbook at 0x7a2fc541cb50>"
      ]
     },
     "execution_count": 9,
     "metadata": {},
     "output_type": "execute_result"
    }
   ],
   "source": [
    "df_filtrado['origem_tratada'].value_counts(sort=True).write_excel('div_nats.xlsx')"
   ]
  },
  {
   "cell_type": "code",
   "execution_count": null,
   "id": "326bbc1d",
   "metadata": {},
   "outputs": [],
   "source": [
    "df_filtrado.write_parquet('base_enatjus_2025-1.parquet', compression='zstd', compression_level=6)"
   ]
  }
 ],
 "metadata": {
  "kernelspec": {
   "display_name": "48_mestrado_publi1",
   "language": "python",
   "name": "python3"
  },
  "language_info": {
   "codemirror_mode": {
    "name": "ipython",
    "version": 3
   },
   "file_extension": ".py",
   "mimetype": "text/x-python",
   "name": "python",
   "nbconvert_exporter": "python",
   "pygments_lexer": "ipython3",
   "version": "3.11.11"
  }
 },
 "nbformat": 4,
 "nbformat_minor": 5
}
